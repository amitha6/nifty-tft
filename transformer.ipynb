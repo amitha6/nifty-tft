{
  "cells": [
    {
      "cell_type": "markdown",
      "metadata": {
        "id": "svl2ms8VT5I_"
      },
      "source": [
        "# Predicting NIFTY with Transformer\n",
        "\n",
        "The following is a Pytorch implementation of a transformer model to predict NIFTY indices."
      ]
    },
    {
      "cell_type": "markdown",
      "metadata": {
        "id": "K9AGD0eJTwf1"
      },
      "source": [
        "## Imports"
      ]
    },
    {
      "cell_type": "code",
      "execution_count": null,
      "metadata": {
        "id": "-7hWIQhXTqbV"
      },
      "outputs": [],
      "source": [
        "import os\n",
        "import copy\n",
        "from pathlib import Path\n",
        "import warnings\n",
        "\n",
        "import numpy as np\n",
        "import pandas as pd\n",
        "import pytorch_lightning as pl\n",
        "from pytorch_lightning.callbacks import EarlyStopping, LearningRateMonitor\n",
        "from pytorch_lightning.loggers import TensorBoardLogger\n",
        "import torch\n",
        "\n",
        "from pytorch_forecasting import Baseline, TemporalFusionTransformer, TimeSeriesDataSet\n",
        "from pytorch_forecasting.data import GroupNormalizer\n",
        "from pytorch_forecasting.metrics import SMAPE, PoissonLoss, QuantileLoss\n",
        "from pytorch_forecasting.models.temporal_fusion_transformer.tuning import optimize_hyperparameters"
      ]
    },
    {
      "cell_type": "markdown",
      "metadata": {
        "id": "CZitYWIJTusu"
      },
      "source": [
        "## Load Data"
      ]
    },
    {
      "cell_type": "code",
      "execution_count": null,
      "metadata": {
        "id": "JMT1DJNyUIeO"
      },
      "outputs": [],
      "source": [
        "data = pd.read_excel('NIFTY50.xlsx', sheet_name=None)\n",
        "\n",
        "def copy_dict_without_keys(d, keys):\n",
        "    return {x: d[x] for x in d if x not in keys}\n",
        "\n",
        "input_data = copy_dict_without_keys(data, ['Companies List'])\n",
        "output_data = copy_dict_without_keys(data, list(set(data.keys()) - {'in'}))\n",
        "\n",
        "# prepare input data before merge\n",
        "for sheet in input_data:\n",
        "    # 1. replace '##...' by actual dates\n",
        "    # ('##...' are placeholders for wider text)\n",
        "\n",
        "    # 2. impute null values \n",
        "    input_data[sheet] = data[sheet].dropna(subset=['Open', 'High', 'Low', 'Close', 'Adj Close', 'Volume'])\n",
        "\n",
        "    # 3. Add a categorical column for company symbol\n",
        "    input_data[sheet]['Symbol'] = sheet\n",
        "\n",
        "    # 4. convert date to standard format\n",
        "    input_data[sheet]['Date'] = pd.to_datetime(input_data[sheet]['Date'], dayfirst=True)\n",
        "\n",
        "# impute null values in output data and convert date to standard format\n",
        "output_data = output_data.dropna(subset=['Open', 'High', 'Low', 'Close', 'Adj Close'])\n",
        "output_data['Date'] = pd.to_datetime(output_data['Date'], dayfirst=True)\n",
        "\n",
        "for sheet in input_data:\n",
        "    output_data[sheet] = (output_data['Date'] in input_data[sheet]['Date'])\n",
        "\n",
        "# concatenate dataframes\n",
        "input_data = pd.concat(input_data)"
      ]
    },
    {
      "cell_type": "markdown",
      "metadata": {
        "id": "kIt1kUqvuALf"
      },
      "source": [
        "## Create Dataset and dataloaders\n",
        "\n",
        "Convert the dataframe of raw data into a PyTorch Forecasting ``TimeSeriesDataSet``. "
      ]
    },
    {
      "cell_type": "markdown",
      "metadata": {
        "id": "uLM6Ua0Wu94c"
      },
      "source": [
        "## Transformer\n",
        "\n",
        "Initialize and train a time-series forecasting transformer."
      ]
    },
    {
      "cell_type": "markdown",
      "metadata": {
        "id": "gAft7MUiyY2_"
      },
      "source": [
        "### Optimize learning rate\n",
        "\n",
        "The optimal learning rate is identified using PyTorch Lightning learning rate finder."
      ]
    },
    {
      "cell_type": "markdown",
      "metadata": {
        "id": "G7uFOj6IzDeh"
      },
      "source": [
        "For the TemporalFusionTransformer, the optimal learning rate seems to be slightly lower than the suggested one. Further, we do not directly want to use the suggested learning rate because PyTorch Lightning sometimes can get confused by the noise at lower learning rates and suggests rates far too low. Manual control is essential."
      ]
    },
    {
      "cell_type": "markdown",
      "metadata": {
        "id": "LYTqF5WAzKAA"
      },
      "source": [
        "## Train Model"
      ]
    }
  ],
  "metadata": {
    "colab": {
      "name": "transformer.ipynb",
      "provenance": []
    },
    "kernelspec": {
      "display_name": "Python 3",
      "name": "python3"
    },
    "language_info": {
      "name": "python"
    }
  },
  "nbformat": 4,
  "nbformat_minor": 0
}